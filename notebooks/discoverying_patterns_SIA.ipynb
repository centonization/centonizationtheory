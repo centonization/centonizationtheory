{
 "cells": [
  {
   "cell_type": "markdown",
   "metadata": {},
   "source": [
    "## Discoverying significant patterns in Arab-Andalusian Music using SIA\n",
    "October - 2020"
   ]
  },
  {
   "cell_type": "code",
   "execution_count": 97,
   "metadata": {},
   "outputs": [
    {
     "name": "stdout",
     "output_type": "stream",
     "text": [
      "The autoreload extension is already loaded. To reload it, use:\n",
      "  %reload_ext autoreload\n"
     ]
    }
   ],
   "source": [
    "%load_ext autoreload\n",
    "%autoreload 2"
   ]
  },
  {
   "cell_type": "code",
   "execution_count": 98,
   "metadata": {},
   "outputs": [],
   "source": [
    "import sys\n",
    "sys.path.append('../src/')\n",
    "sys.path.append('..')\n",
    "\n",
    "import extraction\n",
    "import itertools\n",
    "import model\n",
    "import persistence\n",
    "import reporting\n",
    "import sia_helpers"
   ]
  },
  {
   "cell_type": "code",
   "execution_count": 19,
   "metadata": {},
   "outputs": [],
   "source": [
    "from collections import Counter\n",
    "import os\n",
    "import pandas as pd\n",
    "import numpy as np\n",
    "import matplotlib.pyplot as plt\n",
    "import music21 as m21\n",
    "import ijson"
   ]
  },
  {
   "cell_type": "markdown",
   "metadata": {},
   "source": [
    "### Load"
   ]
  },
  {
   "cell_type": "markdown",
   "metadata": {},
   "source": [
    "Load mappings Tab mapping and recording metadata"
   ]
  },
  {
   "cell_type": "code",
   "execution_count": 61,
   "metadata": {},
   "outputs": [],
   "source": [
    "data_path = '../data'"
   ]
  },
  {
   "cell_type": "code",
   "execution_count": 87,
   "metadata": {},
   "outputs": [],
   "source": [
    "# Tab: list of centones\n",
    "with open('../data/centones_tab.json') as f:\n",
    "    centones_tab = json.load(f)\n",
    "    \n",
    "# Recording Descriptions\n",
    "andalusian_description =  pd.read_json(os.path.join(data_path, 'andalusian_description.json'))\n",
    "mbid_tab_lookup = sia_helpers.mbids_per_tab(andalusian_description)"
   ]
  },
  {
   "cell_type": "code",
   "execution_count": 88,
   "metadata": {},
   "outputs": [],
   "source": [
    "# Remove Spaces\n",
    "centones_tab = {k:[i.replace(' ','') for i in v] for k,v in centones_tab.items()}\n",
    "\n",
    "# Remove Duplicates\n",
    "centones_tab = {k:list(set(v)) for k,v in centones_tab.items()}"
   ]
  },
  {
   "cell_type": "code",
   "execution_count": 10,
   "metadata": {},
   "outputs": [],
   "source": [
    "# scores with chords\n",
    "scores = [s for s in scores if s != '0386e377-7212-43e5-89b6-7f4c42d0ae74']"
   ]
  },
  {
   "cell_type": "markdown",
   "metadata": {},
   "source": [
    "# Pattern extraction\n"
   ]
  },
  {
   "cell_type": "markdown",
   "metadata": {},
   "source": [
    "Load all scores into a stream of notes"
   ]
  },
  {
   "cell_type": "code",
   "execution_count": 62,
   "metadata": {},
   "outputs": [],
   "source": [
    "def extract_pattern_grams(notes, min_n=2, max_n=2):\n",
    "    \"\"\"\n",
    "    For a list of list of notes, <notes>\n",
    "    Extract all possible note-grams up to a maximum length of <n>\n",
    "    Converts stream of notes to bag-of-patterns\n",
    "    \"\"\"\n",
    "    num_notes = len(notes)\n",
    "    comb  = []\n",
    "    for i in range(num_notes):\n",
    "        # Final n patterns are counted more than once\n",
    "        n_ = num_notes - i if max_n > num_notes - i else max_n\n",
    "        comb.append([notes[i:i+j] for j in range(2,n_+1)])\n",
    "    flat = [i for c in comb for i in c]\n",
    "    return ' '.join([''.join(x) for x in flat if len(x) >= min_n if 'R' not in x])\n",
    "\n",
    "def pattern_stream_from_score(path, rest_quarter_length=0):\n",
    "    \"\"\"\n",
    "    Load a score from <path> and return an ordered list of notes\n",
    "    R represents a rest greater than or equal to <rest_quarter_length>\n",
    "    ...rests shorter than <rest_quarter_length> are ignored\n",
    "\n",
    "    Fails if score contains chords\n",
    "    \"\"\"\n",
    "\n",
    "    s = music21.converter.parse(path)\n",
    "    p = s.parts[0]\n",
    "\n",
    "    # These are all the notes of the whole piece, fails for chords\n",
    "    notes_and_rests = p.flat.notesAndRests.stream()\n",
    "    notes = []\n",
    "    for n in notes_and_rests:\n",
    "        if n.isRest:\n",
    "            if n.duration.quarterLength > rest_quarter_length:\n",
    "                note = 'R'\n",
    "            octave = ''\n",
    "        else:\n",
    "            note = str(n.pitch.name)\n",
    "            octave = str(n.pitch.octave)\n",
    "        duration = n.duration.quarterLength\n",
    "        notes.append((note, octave, duration))\n",
    "    return notes"
   ]
  },
  {
   "cell_type": "code",
   "execution_count": 63,
   "metadata": {},
   "outputs": [],
   "source": [
    "mbid_patterns = {}\n",
    "for score in scores:\n",
    "    score_path = os.path.join(data_path, 'scores_xml', score + '.xml')\n",
    "    try:\n",
    "        notes = pattern_stream_from_score(score_path)\n",
    "    except:\n",
    "        continue\n",
    "    notes = [nt[0] for nt in notes]\n",
    "    patterns = extract_pattern_grams(notes, min_n=3, max_n=7)\n",
    "    patterns = patterns.split(' ')\n",
    "    mbid_patterns[score] = patterns"
   ]
  },
  {
   "cell_type": "markdown",
   "metadata": {},
   "source": [
    "# Extract SIA output patterns"
   ]
  },
  {
   "cell_type": "markdown",
   "metadata": {},
   "source": [
    "Extract relevant patterns per score. It will only be accepted as valid the output patterns that contain consecutive notes on the score"
   ]
  },
  {
   "cell_type": "code",
   "execution_count": null,
   "metadata": {},
   "outputs": [],
   "source": [
    "# convert all scores to offset .txt file\n",
    "for score in scores:\n",
    "    scores_offset = os.path.join(data_path, 'scores_offset')\n",
    "    if os.path.isdir(score_offset):\n",
    "        os.mkdir(score_offset)\n",
    "    score_path = os.path.join(score_offset, score + '.xml')\n",
    "    s = m21.converter.parse(score_path)\n",
    "    p = s.parts[0]\n",
    "    notes = p.flat.notes.stream()\n",
    "    with open(os.path.join(score_offset, score + '.txt'), 'w') as f:\n",
    "        for n in notes:\n",
    "            f.write(str(m21.midi.translate.offsetToMidi(n.offset)) + ' ')"
   ]
  },
  {
   "cell_type": "markdown",
   "metadata": {},
   "source": [
    "SIA code has been taken from the next repository: https://github.com/andrebola/patterns-genres (Look at it for more info)\n",
    "SIA was applied to every score of our dataset separately using the SiaMain class. The results have been store under 'results/SIA_output' directory"
   ]
  },
  {
   "cell_type": "code",
   "execution_count": 57,
   "metadata": {},
   "outputs": [],
   "source": [
    "sia_patterns = {}\n",
    "for score in scores:\n",
    "    with open(os.path.join('<path/to/SIA/results>'), 'r') as f:\n",
    "        sia_patterns[score] = list(ijson.items(f, 'SiaTonic1'))[0]\n"
   ]
  },
  {
   "cell_type": "code",
   "execution_count": 59,
   "metadata": {},
   "outputs": [],
   "source": [
    "# only get consecutive patterns from every score\n",
    "sia_patterns = sia_helpers.get_consecutive_patterns(score_offset, sia_patterns, scores)\n",
    "# transform SIA format pattern to notename format\n",
    "sia_patterns = sia_helpers.sia_to_notename(sia_patterns)\n",
    "# order sia patterns per tab\n",
    "sia_patterns_tab = sia_helpers.compute_patterns_per_tab(sia_patterns, mbid_tab_lookup, centones_tab)"
   ]
  },
  {
   "cell_type": "markdown",
   "metadata": {},
   "source": [
    "# Evaluation"
   ]
  },
  {
   "cell_type": "markdown",
   "metadata": {},
   "source": [
    "Evaluation of the output patterns using a minimum frequency of 59 occurrences per tab per score, based on what's been analysed on the paper."
   ]
  },
  {
   "cell_type": "code",
   "execution_count": 73,
   "metadata": {},
   "outputs": [],
   "source": [
    "final_patterns = sia_helpers.filter_patterns_by_min_n(scores, mbid_patterns, mbid_tab_lookup, sia_patterns_tab, 59)"
   ]
  },
  {
   "cell_type": "code",
   "execution_count": 94,
   "metadata": {},
   "outputs": [
    {
     "name": "stdout",
     "output_type": "stream",
     "text": [
      "Overal metrics: \n",
      " With exact matches: R=0.38, P=0.27 \n",
      " With superstring matches: R=0.41, P=0.29\n"
     ]
    }
   ],
   "source": [
    "# Overall metrics\n",
    "R_exact,P_exact = sia_helpers.compute_exact_R_P(final_patterns, centones_tab)\n",
    "R_super, P_super = sia_helpers.compute_superstring_R_P(final_patterns, centones_tab)\n",
    "print(\"Overall metrics: \\n With exact matches: R={:.2f}, P={:.2f} \\n With superstring matches: R={:.2f}, P={:.2f}\".format(R_exact, P_exact, R_super, P_super))"
   ]
  },
  {
   "cell_type": "code",
   "execution_count": 100,
   "metadata": {},
   "outputs": [
    {
     "name": "stdout",
     "output_type": "stream",
     "text": [
      "\n",
      "###########################################al-‘uššāq###########################################\n",
      "\n",
      " With exact matches: R=0.12, P=0.22 \n",
      " With superstring matches: R=0.12, P=0.22\n",
      "\n",
      "###########################################raml al-māya###########################################\n",
      "\n",
      " With exact matches: R=0.08, P=0.30 \n",
      " With superstring matches: R=0.08, P=0.30\n",
      "\n",
      "###########################################raṣd al-ḏāyl###########################################\n",
      "\n",
      " With exact matches: R=0.18, P=0.25 \n",
      " With superstring matches: R=0.18, P=0.25\n",
      "\n",
      "###########################################‘irāq al-‘aŷam###########################################\n",
      "\n",
      " With exact matches: R=0.12, P=0.33 \n",
      " With superstring matches: R=0.12, P=0.33\n",
      "\n",
      "###########################################al-māya###########################################\n",
      "\n",
      " With exact matches: R=0.03, P=0.12 \n",
      " With superstring matches: R=0.03, P=0.12\n",
      "\n",
      "###########################################al-raṣd###########################################\n",
      "\n",
      " With exact matches: R=0.19, P=0.33 \n",
      " With superstring matches: R=0.19, P=0.33\n",
      "\n",
      "###########################################al-iṣbahān###########################################\n",
      "\n",
      " With exact matches: R=0.10, P=0.33 \n",
      " With superstring matches: R=0.14, P=0.44\n",
      "\n",
      "###########################################al-istihlāl###########################################\n",
      "\n",
      " With exact matches: R=0.20, P=0.25 \n",
      " With superstring matches: R=0.25, P=0.31\n",
      "\n",
      "###########################################garībat al-ḥusayn###########################################\n",
      "\n",
      " With exact matches: R=0.10, P=0.33 \n",
      " With superstring matches: R=0.10, P=0.33\n",
      "\n",
      "###########################################al-ḥiŷāz al-kabīr###########################################\n",
      "\n",
      " With exact matches: R=0.10, P=0.25 \n",
      " With superstring matches: R=0.10, P=0.25\n",
      "\n",
      "###########################################al-mašriquī###########################################\n",
      "\n",
      " With exact matches: R=0.19, P=0.50 \n",
      " With superstring matches: R=0.19, P=0.50\n",
      "\n",
      "###########################################al-ḥiŷāz al-mašriqī###########################################\n",
      "\n",
      " With exact matches: R=0.00, P=0.00 \n",
      " With superstring matches: R=0.00, P=0.00\n",
      "\n",
      "###########################################al-ṣīka###########################################\n",
      "\n",
      " With exact matches: R=0.05, P=0.50 \n",
      " With superstring matches: R=0.05, P=0.50\n"
     ]
    }
   ],
   "source": [
    "# Metrics by tab\n",
    "for tab in final_patterns:\n",
    "    tab_dict = {tab: final_patterns[tab]}\n",
    "    print('\\n' + '###########################################' + tab + '###########################################')\n",
    "    R_exact, P_exact = sia_helpers.compute_tab_exact_R_P(tab_dict, centones_tab)\n",
    "    R_super, P_super = sia_helpers.compute_tab_superstring_R_P(tab_dict, centones_tab)\n",
    "    print(\"\\n With exact matches: R={:.2f}, P={:.2f} \\n With superstring matches: R={:.2f}, P={:.2f}\".format(R_exact, P_exact, R_super, P_super))"
   ]
  }
 ],
 "metadata": {
  "kernelspec": {
   "display_name": "Python 3",
   "language": "python",
   "name": "python3"
  },
  "language_info": {
   "codemirror_mode": {
    "name": "ipython",
    "version": 3
   },
   "file_extension": ".py",
   "mimetype": "text/x-python",
   "name": "python",
   "nbconvert_exporter": "python",
   "pygments_lexer": "ipython3",
   "version": "3.6.7"
  }
 },
 "nbformat": 4,
 "nbformat_minor": 2
}
